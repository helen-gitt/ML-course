{
  "nbformat": 4,
  "nbformat_minor": 0,
  "metadata": {
    "colab": {
      "provenance": []
    },
    "kernelspec": {
      "name": "python3",
      "display_name": "Python 3"
    },
    "language_info": {
      "name": "python"
    }
  },
  "cells": [
    {
      "cell_type": "markdown",
      "source": [
        "В цьому домашньому завданні відпрацюємо з вами знання, отримані в модулі зі статистики.\n",
        "\n",
        "**Завдання 1.** Ми обговорили з Вами на лекції, що велика літера Сігма грецького алфавіту позначає в математиці суму. Знайдіть з використанням Python $\\Sigma x$, $\\Sigma x^2$, та $\\Sigma (x-1)^2$ для наступного набору даних:\n",
        "`1 3 4`\n",
        "Виведіть результат кожного обчислення на екран."
      ],
      "metadata": {
        "id": "SDhaTqxcWhnP"
      }
    },
    {
      "cell_type": "code",
      "source": [
        "x = [1, 3, 4]\n",
        "\n",
        "# Σx - сума всіх значень\n",
        "sum_x = sum(x)\n",
        "\n",
        "# Σx² - сума квадратів значень\n",
        "sum_x_squared = sum(i**2 for i in x)\n",
        "\n",
        "# Σ(x - 1)² - сума квадратів відхилень від 1\n",
        "sum_x_minus1_squared = sum((i - 1)**2 for i in x)\n",
        "\n",
        "print(\"Σx =\", sum_x)\n",
        "print(\"Σx² =\", sum_x_squared)\n",
        "print(\"Σ(x - 1)² =\", sum_x_minus1_squared)"
      ],
      "metadata": {
        "id": "B1mgx_IBT0e8",
        "colab": {
          "base_uri": "https://localhost:8080/"
        },
        "outputId": "2d0a051a-66c7-4f7e-8152-6a71f63d352a"
      },
      "execution_count": 23,
      "outputs": [
        {
          "output_type": "stream",
          "name": "stdout",
          "text": [
            "Σx = 8\n",
            "Σx² = 26\n",
            "Σ(x - 1)² = 13\n"
          ]
        }
      ]
    },
    {
      "cell_type": "markdown",
      "source": [
        "**Завдання 2.** Ми зібрали дані про суму покупок в гривнях 20ма випадково обраними клієнтами в нашому магазині (всього клієнтів у нас більше) за минулий місяць. Вони представлені в змінній `sum_purchases`. Знайдіть **вибіркове середнє** для цих даних кожним з зазначених методів:   \n",
        "\n",
        "  2.1. без використання жодних бібліотек, користуючись тільки Python.  \n",
        "  2.2. використовуючи відповідний метод бібліотеки `numpy`.\n",
        "\n",
        "  Виведіть результат обчислень в кожному з випадків на екран та порівняйте результати. Вони співпадають?"
      ],
      "metadata": {
        "id": "fa78aW5lhiia"
      }
    },
    {
      "cell_type": "code",
      "execution_count": 24,
      "metadata": {
        "id": "_9kMt3rq6V5m"
      },
      "outputs": [],
      "source": [
        "sum_purchases = [ 316,  493,  367,  153,  224,  121,  322,  450,  196,  397,  281,\n",
        "  239,  484,  124,  223,  448,  432,  255, 4310, 3524]"
      ]
    },
    {
      "cell_type": "code",
      "source": [
        "mean_python = sum(sum_purchases)/len(sum_purchases)\n",
        "mean_python"
      ],
      "metadata": {
        "id": "wPmL919HT1c0",
        "colab": {
          "base_uri": "https://localhost:8080/"
        },
        "outputId": "6e0bfb7c-1d49-49a8-bbab-f2055daec6cb"
      },
      "execution_count": 25,
      "outputs": [
        {
          "output_type": "execute_result",
          "data": {
            "text/plain": [
              "667.95"
            ]
          },
          "metadata": {},
          "execution_count": 25
        }
      ]
    },
    {
      "cell_type": "code",
      "source": [
        "import numpy as np\n",
        "\n",
        "mean_numpy = np.mean(sum_purchases)\n",
        "mean_numpy"
      ],
      "metadata": {
        "colab": {
          "base_uri": "https://localhost:8080/"
        },
        "id": "7UDtQ8AveES8",
        "outputId": "30f7902e-61a3-4435-bea1-737059f89fe2"
      },
      "execution_count": 26,
      "outputs": [
        {
          "output_type": "execute_result",
          "data": {
            "text/plain": [
              "np.float64(667.95)"
            ]
          },
          "metadata": {},
          "execution_count": 26
        }
      ]
    },
    {
      "cell_type": "markdown",
      "source": [
        "**Завдання 3.** Для того ж набору даних в змінній `sum_purchases` обчисліть **медіану** кожним з зазначених методів:  \n",
        "\n",
        "  3.1. без використання жодних бібліотек, користуючись тільки Python.  \n",
        "  3.2. використовуючи відповідний метод бібліотеки numpy.  \n",
        "\n",
        "Виведіть результат обчислень в кожному з випадків на екран. Порівняйте результати зі значенням вибіркового середнього. Напишіть коментар, для яких задач ви б використовували вибіркове середнє, а для яких - медіану?"
      ],
      "metadata": {
        "id": "FMdoxZd0kZdW"
      }
    },
    {
      "cell_type": "code",
      "source": [
        "# 3.1 без використання жодних бібліотек, користуючись тільки Python\n",
        "\n",
        "sorted_purchases = sorted(sum_purchases)\n",
        "n = len(sorted_purchases)\n",
        "sorted_purchases\n",
        "\n",
        "if n % 2 == 1:\n",
        "    manual_median = sorted_purchases[n//2]\n",
        "else:\n",
        "    manual_median = (sorted_purchases[n//2-1] + sorted_purchases[n//2])/2\n",
        "\n",
        "print(manual_median)"
      ],
      "metadata": {
        "id": "x58BumvuT2nl",
        "colab": {
          "base_uri": "https://localhost:8080/"
        },
        "outputId": "de591a89-5624-41c3-f82b-237f232d3d33"
      },
      "execution_count": 27,
      "outputs": [
        {
          "output_type": "stream",
          "name": "stdout",
          "text": [
            "319.0\n"
          ]
        }
      ]
    },
    {
      "cell_type": "code",
      "source": [
        "# 3.2. використовуючи відповідний метод бібліотеки numpy\n",
        "\n",
        "import numpy as np\n",
        "median_numpy = np.median(sum_purchases)\n",
        "print(median_numpy)"
      ],
      "metadata": {
        "colab": {
          "base_uri": "https://localhost:8080/"
        },
        "id": "SKY3JN5ChGf3",
        "outputId": "251e8905-b7e0-4cba-8885-68c51fe118fe"
      },
      "execution_count": 28,
      "outputs": [
        {
          "output_type": "stream",
          "name": "stdout",
          "text": [
            "319.0\n"
          ]
        }
      ]
    },
    {
      "cell_type": "markdown",
      "source": [
        "Середнє значення є чутливим до викидів, тому в нашому випадку (аналіз суми покупок) доцільніше орієнтуватися на медіану.\n",
        "\n",
        "У нашому наборі даних середнє дорівнює 667.95, тоді як медіана - лише 319.0.\n",
        "Це свідчить про наявність кількох надзвичайно великих значень, які суттєво підвищують середнє і спотворюють загальну картину.\n",
        "\n",
        "Середнє значення доцільно використовувати, коли дані мають симетричний розподіл без викидів.\n",
        "Приклади: середній зріст людей, середній бал у класі.\n",
        "\n",
        "Натомість медіану краще застосовувати у випадках, коли розподіл даних може містити аномальні значення.\n",
        "Наприклад: доходи, суми покупок."
      ],
      "metadata": {
        "id": "_ae2b6a6imhL"
      }
    },
    {
      "cell_type": "markdown",
      "source": [
        "**Завдання 4**. Обчислість стандартне відхилення наведеної вибірки в змінній `sum_purchases` кожним з зазначених методів:  \n",
        "\n",
        "  4.1. без використання жодних бібліотек, користуючись тільки Python.  \n",
        "  4.2. використовуючи відповідний метод бібліотеки numpy.  \n",
        "\n",
        "Виведіть результат обчислень в кожному з випадків на екран."
      ],
      "metadata": {
        "id": "o1Z7az2yNDQV"
      }
    },
    {
      "cell_type": "code",
      "source": [
        "# 4.1. без використання жодних бібліотек, користуючись тільки Python\n",
        "\n",
        "mean_x = sum(sum_purchases)/len(sum_purchases)\n",
        "squared_diffs = [(x - mean_x)**2 for x in sum_purchases]\n",
        "std_manual = (sum(squared_diffs)/(len(sum_purchases) - 1)) ** 0.5\n",
        "\n",
        "std_manual"
      ],
      "metadata": {
        "id": "X4ixtmL2T642",
        "colab": {
          "base_uri": "https://localhost:8080/"
        },
        "outputId": "ce0ae99e-f14a-4c36-d0a3-2a2c3b3f6b30"
      },
      "execution_count": 29,
      "outputs": [
        {
          "output_type": "execute_result",
          "data": {
            "text/plain": [
              "1124.5433447451132"
            ]
          },
          "metadata": {},
          "execution_count": 29
        }
      ]
    },
    {
      "cell_type": "code",
      "source": [
        "# 4.2. з використанням методу бібліотеки numpy\n",
        "\n",
        "import numpy as np\n",
        "\n",
        "std_numpy = np.std(sum_purchases, ddof=1)\n",
        "print(std_numpy)"
      ],
      "metadata": {
        "colab": {
          "base_uri": "https://localhost:8080/"
        },
        "id": "7hpYueE_mD2x",
        "outputId": "8d492616-d469-4904-9fe1-6db8947d6dea"
      },
      "execution_count": 30,
      "outputs": [
        {
          "output_type": "stream",
          "name": "stdout",
          "text": [
            "1124.5433447451132\n"
          ]
        }
      ]
    },
    {
      "cell_type": "markdown",
      "source": [
        "**Завдання 5**. Ми провели дослідження віку студентів-першокурсників. Виявилось, що\n",
        "- 10 студентів мають вік 16 років\n",
        "- 25 студентів - 17 років\n",
        "- 20 студентів - 18 років\n",
        "- 2 студенти - 20 років\n",
        "\n",
        "Обчислість середнє значення для цієї вибірки будь-яким способом - на чистому Python або з numpy - та виведіть результат на екран."
      ],
      "metadata": {
        "id": "M1ntKTjXLVlH"
      }
    },
    {
      "cell_type": "code",
      "source": [
        "import numpy as np\n",
        "\n",
        "# список усіх студентів і їх віку\n",
        "ages = np.array(\n",
        "    [16]*10 +\n",
        "    [17]*25 +\n",
        "    [18]*20 +\n",
        "    [20]*2     )\n",
        "\n",
        "# середній вік\n",
        "mean_age = np.mean(ages)\n",
        "mean_age"
      ],
      "metadata": {
        "id": "RdIU4M-7T8R4",
        "colab": {
          "base_uri": "https://localhost:8080/"
        },
        "outputId": "530f9fba-63a1-404a-b732-7f0b6a4e0286"
      },
      "execution_count": 31,
      "outputs": [
        {
          "output_type": "execute_result",
          "data": {
            "text/plain": [
              "np.float64(17.280701754385966)"
            ]
          },
          "metadata": {},
          "execution_count": 31
        }
      ]
    },
    {
      "cell_type": "markdown",
      "source": [
        "**Завдання 6**. Крім даних про суму покупок, ми зібрали ще дані про кількість відвідувань кожного з кожного покупця, які знаходяться в змінній `visits`. Обчисліть коефіцієнт кореляції Пірсона для суми покупок і кількості відвідувань кожним з зазначених методів:  \n",
        "\n",
        "  6.1. без використання жодних бібліотек, користуючись тільки Python.  \n",
        "  6.2. використовуючи відповідний метод бібліотеки numpy.  \n",
        "  \n",
        "Виведіть результат на екран. Проаналізуйте результат.\n",
        "\n",
        "Виведіть додатково графік розсіювання викликавши код нижче і зробіть заключення, чи варто щось змінити при підрахунку кореляції, аби коефіцієнт Пірсона показував коректну оцінку лінійної залежності?"
      ],
      "metadata": {
        "id": "Xx8MFkkVM53z"
      }
    },
    {
      "cell_type": "code",
      "source": [
        "visits = [ 6,  2, 10,  3,  9,  9,  2,  3,  6,  6, 10,  2,  5, 10,  3,  5,  4,\n",
        "        7,  4,  2]"
      ],
      "metadata": {
        "id": "4OIGBT7UOWhO"
      },
      "execution_count": 32,
      "outputs": []
    },
    {
      "cell_type": "code",
      "source": [
        "# 6.1. без використання жодних бібліотек, користуючись тільки Python\n",
        "\n",
        "n = len(sum_purchases)\n",
        "mean_x = sum(sum_purchases)/n\n",
        "mean_y = sum(visits)/n\n",
        "\n",
        "# коваріація\n",
        "cov_xy = sum([(sum_purchases[i] - mean_x) * (visits[i] - mean_y) for i in range(n)])/(n - 1)\n",
        "\n",
        "# стандартні відхилення\n",
        "std_x = (sum([(x - mean_x)**2 for x in sum_purchases])/(n - 1))**0.5\n",
        "std_y = (sum([(y - mean_y)**2 for y in visits])/(n - 1))**0.5\n",
        "\n",
        "manual = cov_xy/(std_x * std_y)\n",
        "manual"
      ],
      "metadata": {
        "id": "YLNF7VbeT97Q",
        "colab": {
          "base_uri": "https://localhost:8080/"
        },
        "outputId": "abb76f56-e530-49e4-d459-edcb13492664"
      },
      "execution_count": 33,
      "outputs": [
        {
          "output_type": "execute_result",
          "data": {
            "text/plain": [
              "-0.3026584468766646"
            ]
          },
          "metadata": {},
          "execution_count": 33
        }
      ]
    },
    {
      "cell_type": "code",
      "source": [
        "# 6.2. використовуючи відповідний метод бібліотеки numpy\n",
        "\n",
        "import numpy as np\n",
        "\n",
        "pearson_numpy = np.corrcoef(sum_purchases, visits)[0, 1]\n",
        "pearson_numpy"
      ],
      "metadata": {
        "colab": {
          "base_uri": "https://localhost:8080/"
        },
        "id": "hkWAAR6wteBJ",
        "outputId": "fd3c7b26-866b-4307-f8d0-f3214f3f3fbf"
      },
      "execution_count": 34,
      "outputs": [
        {
          "output_type": "execute_result",
          "data": {
            "text/plain": [
              "np.float64(-0.3026584468766646)"
            ]
          },
          "metadata": {},
          "execution_count": 34
        }
      ]
    },
    {
      "cell_type": "code",
      "source": [
        "import matplotlib.pyplot as plt\n",
        "\n",
        "plt.scatter(sum_purchases, visits)\n",
        "plt.title('Scatter Plot of Purchases vs. Visits')\n",
        "plt.xlabel('Sum of Purchases')\n",
        "plt.ylabel('Number of Visits');"
      ],
      "metadata": {
        "colab": {
          "base_uri": "https://localhost:8080/",
          "height": 472
        },
        "id": "gaeoGA-5Prr1",
        "outputId": "3c01b7a8-fec4-41a6-a161-0f644239c5a2"
      },
      "execution_count": 35,
      "outputs": [
        {
          "output_type": "display_data",
          "data": {
            "text/plain": [
              "<Figure size 640x480 with 1 Axes>"
            ],
            "image/png": "[encoded data removed]"
          },
          "metadata": {}
        }
      ]
    },
    {
      "cell_type": "markdown",
      "source": [
        "Коефіцієнт кореляції Пірсона у цьому випадку складає -0.30, що свідчить про слабкий зв’язок між кількістю візитів і сумою покупок. Також графік розсіювання показує наявність двох викидів - точок із надзвичайно великими сумами покупок (4310 і 3524), які мають звичайну або навіть низьку кількість візитів. Щоб отримати більш коректну оцінку лінійного зв’язку, на мою думку, доцільно видалити ці викиди або окремо проаналізувати їхній вплив на результати.\n"
      ],
      "metadata": {
        "id": "4c1vUTpZuGVt"
      }
    },
    {
      "cell_type": "markdown",
      "source": [
        "**Завдання 7**. В попередньому завданні ми помітили, що викиди нам заважають отримати \"правдиве\" значення кореляції. Давайте вилучимо записи, які відповідають значенням з викидами в сумі покупок і обчисліть коеф. кореляції. Для цього поставте `threshold`, який дорінює середньому значенню + 2 стандартних вдіхилля суми покупок і всі значення, які більше за нього, будемо вважати викидами (є і інші правила для визначення викидів - з ним и познайомимось пізніше).\n",
        "\n",
        "Вилучіть значення з обох масивів і обчисліть коеф. кореляції Пірсона з допомогою `numpy` для кількості візитів і суми покупок без записів-викидів. Виведіть результат на екран, побудуйте діаграму розсіювання і проаналізуйте результат: що можемо сказати про залежність в даних?"
      ],
      "metadata": {
        "id": "4pEg0KzSQ6KA"
      }
    },
    {
      "cell_type": "code",
      "source": [
        "import numpy as np\n",
        "import matplotlib.pyplot as plt\n",
        "\n",
        "# 1. перетворюємо списки у масиви\n",
        "sum_purchases = np.array(sum_purchases)\n",
        "visits = np.array(visits)\n",
        "\n",
        "# 2. обчислюємо середнє і стандартне відхилення\n",
        "mean_x = np.mean(sum_purchases)\n",
        "std_x = np.std(sum_purchases)\n",
        "\n",
        "# 3. поріг для викидів\n",
        "threshold = mean_x + 2 * std_x\n",
        "\n",
        "# 4. фільтруємо дані: беремо лише ті, що менші або рівні порогу\n",
        "mask = sum_purchases <= threshold\n",
        "filtered_purchases = sum_purchases[mask]\n",
        "filtered_visits = visits[mask]\n",
        "\n",
        "# 5. обчислюємо коефіцієнт кореляції Пірсона\n",
        "filtered = np.corrcoef(filtered_purchases, filtered_visits)[0, 1]\n",
        "print(\"Pirson coef without outliers\",filtered)\n",
        "\n",
        "# 6. будуємо графік розсіювання\n",
        "plt.scatter(filtered_purchases, filtered_visits)\n",
        "plt.title(\"Scatter Plot without Outliers\")\n",
        "plt.xlabel(\"Sum of Purchases\")\n",
        "plt.ylabel(\"Number of Visits\")\n",
        "plt.grid(True)\n",
        "plt.show()"
      ],
      "metadata": {
        "id": "Yj3Yfaf7UBbc",
        "colab": {
          "base_uri": "https://localhost:8080/",
          "height": 489
        },
        "outputId": "a3f456e4-86df-4d82-fa66-b5b571bec035"
      },
      "execution_count": 36,
      "outputs": [
        {
          "output_type": "stream",
          "name": "stdout",
          "text": [
            "Pirson coef without outliers -0.3685212078127798\n"
          ]
        },
        {
          "output_type": "display_data",
          "data": {
            "text/plain": [
              "<Figure size 640x480 with 1 Axes>"
            ],
            "image/png": "[encoded data removed]"
          },
          "metadata": {}
        }
      ]
    },
    {
      "cell_type": "markdown",
      "source": [
        "Після виключення викидів коефіцієнт кореляції Пірсона становить -0.37. Це свідчить про помірний негативний зв'язок між кількістю візитів і сумою покупок. Тобто більше візитів не означає більше витрат.\n",
        "\n",
        "На графіку видно, що точки розміщені хаотично, без чіткої лінійної залежності. Це підтверджує, що зв’язок між цими змінними слабкий і, можливо, залежить від інших факторів або має нелінійний характер."
      ],
      "metadata": {
        "id": "RHX0hwT72fCJ"
      }
    }
  ]
}